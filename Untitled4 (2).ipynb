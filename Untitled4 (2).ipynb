{
 "cells": [
  {
   "cell_type": "code",
   "execution_count": 2,
   "id": "9eaad1bd-fdef-462a-a390-1ce3d3678bf3",
   "metadata": {
    "jupyter": {
     "source_hidden": true
    },
    "tags": []
   },
   "outputs": [],
   "source": [
    "#1#Abstraction is the process of hiding the internal details of an application from the outer world. Abstraction is used to describe things in simple terms. It’s used to create a boundary between the application and the client programs.\n",
    "#for_example our car is a great example of abstraction. You can start a car by turning the key or pressing the start button. You don't need to know how the engine is getting started, what all components your car has. The car internal implementation and complex logic is completely hidden from the user."
   ]
  },
  {
   "cell_type": "code",
   "execution_count": null,
   "id": "cbb14b0f-fcfd-45ab-8116-5d0683a60af8",
   "metadata": {},
   "outputs": [],
   "source": [
    "#2#Abstraction is a process of hiding unnecessary data and showing only relevant data. Out of an ocean of data, we are only maintaining the transparency of some data to the user. This important concept in object-oriented programming will reduce the complexity of the code and increases the readability."
   ]
  },
  {
   "cell_type": "code",
   "execution_count": 3,
   "id": "66688206-5133-45de-89e4-e1576e9b3bf0",
   "metadata": {},
   "outputs": [],
   "source": [
    "#Encapsulation is binding the data members with member variables. This will avoid the direct access of variables, because direct access of variables may violate privacy, and hiding of the implementation will not be possible."
   ]
  },
  {
   "cell_type": "code",
   "execution_count": 4,
   "id": "347b9317-9381-4785-91fb-e6fb08f3aa61",
   "metadata": {},
   "outputs": [],
   "source": [
    "#for_example if you have a class that has one or more private fields that you use to store the data, then you are in encapsulation"
   ]
  },
  {
   "cell_type": "code",
   "execution_count": 5,
   "id": "25545f9c-4eb8-4066-b0cb-d9121ce7d6d7",
   "metadata": {},
   "outputs": [],
   "source": [
    "#3#The main goal of the abstract base class is to provide a standardized way to test whether an object adheres to a given specification. It can also prevent any attempt to instantiate a subclass that doesn’t override a particular method in the superclass. And finally, using an abstract class, a class can derive identity from another class without any object inheritance.The 'abc' module in Python library provides the infrastructure for defining custom abstract base classes. 'abc' works by marking methods of the base class as abstract. This is done by @absttractmethod decorator"
   ]
  },
  {
   "cell_type": "code",
   "execution_count": 6,
   "id": "6ca07249-2298-4a68-87de-6d8ddb949ba0",
   "metadata": {},
   "outputs": [],
   "source": [
    "#4#n Python, abstraction can be achieved by having/using abstract classes and methods in our programs. Understanding Abstract Methods and Classes: An abstract method is a method that is declared, but does not contain implementation."
   ]
  },
  {
   "cell_type": "code",
   "execution_count": null,
   "id": "152ed983-f3b5-471d-a51d-858135d4bab4",
   "metadata": {},
   "outputs": [],
   "source": [
    "#5#"
   ]
  }
 ],
 "metadata": {
  "kernelspec": {
   "display_name": "Python 3 (ipykernel)",
   "language": "python",
   "name": "python3"
  },
  "language_info": {
   "codemirror_mode": {
    "name": "ipython",
    "version": 3
   },
   "file_extension": ".py",
   "mimetype": "text/x-python",
   "name": "python",
   "nbconvert_exporter": "python",
   "pygments_lexer": "ipython3",
   "version": "3.10.8"
  }
 },
 "nbformat": 4,
 "nbformat_minor": 5
}
